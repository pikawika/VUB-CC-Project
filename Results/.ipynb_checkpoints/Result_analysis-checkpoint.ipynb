{
 "cells": [
  {
   "cell_type": "markdown",
   "metadata": {},
   "source": [
    "# Creative car design\n",
    "\n",
    "In this Jupyter Notebook the results of the external evaluation performed for the creative car design system is performed."
   ]
  },
  {
   "cell_type": "markdown",
   "metadata": {},
   "source": [
    "<hr>\n",
    "\n",
    "## Table of contents\n",
    "- Student info\n",
    "- Required libraries\n",
    "- Loading in the results\n",
    "- Removing non complete entrees"
   ]
  },
  {
   "cell_type": "markdown",
   "metadata": {},
   "source": [
    "<hr>\n",
    "\n",
    "## Student info\n",
    "- **Name**: Bontinck Lennert\n",
    "- **StudentID**: 568702\n",
    "- **Affiliation**: VUB - Master Computer Science: AI"
   ]
  },
  {
   "cell_type": "markdown",
   "metadata": {},
   "source": [
    "<hr>\n",
    "\n",
    "## Required libraries\n",
    "\n",
    "The following code block loads in the required libraries. Anaconda environments should have them installed by default."
   ]
  },
  {
   "cell_type": "code",
   "execution_count": 1,
   "metadata": {},
   "outputs": [],
   "source": [
    "# Numerical manipulations libraries\n",
    "import pandas as pd\n",
    "import numpy as np\n",
    "\n",
    "# plotting libraries\n",
    "import matplotlib.pyplot as plt"
   ]
  },
  {
   "cell_type": "markdown",
   "metadata": {},
   "source": [
    "<hr>\n",
    "\n",
    "## Loading in the results\n",
    "\n",
    "The following code block loads in the final results as they were retreived from the export page of the external evaluation tool."
   ]
  },
  {
   "cell_type": "code",
   "execution_count": 2,
   "metadata": {},
   "outputs": [],
   "source": [
    "bias = pd.read_csv(r'Data\\bias.csv')\n",
    "images = pd.read_csv(r'Data\\images.csv')\n",
    "participants = pd.read_csv(r'Data\\participants.csv')\n",
    "ratings_grouped = pd.read_csv(r'Data\\ratings_grouped.csv')\n",
    "ratings_single = pd.read_csv(r'Data\\ratings_single.csv')"
   ]
  },
  {
   "cell_type": "markdown",
   "metadata": {},
   "source": [
    "The following code blocks will validate the loaded in data is correct."
   ]
  },
  {
   "cell_type": "code",
   "execution_count": 3,
   "metadata": {
    "scrolled": false
   },
   "outputs": [
    {
     "name": "stdout",
     "output_type": "stream",
     "text": [
      "-------- bias dataset --------\n"
     ]
    },
    {
     "data": {
      "text/html": [
       "<div>\n",
       "<style scoped>\n",
       "    .dataframe tbody tr th:only-of-type {\n",
       "        vertical-align: middle;\n",
       "    }\n",
       "\n",
       "    .dataframe tbody tr th {\n",
       "        vertical-align: top;\n",
       "    }\n",
       "\n",
       "    .dataframe thead th {\n",
       "        text-align: right;\n",
       "    }\n",
       "</style>\n",
       "<table border=\"1\" class=\"dataframe\">\n",
       "  <thead>\n",
       "    <tr style=\"text-align: right;\">\n",
       "      <th></th>\n",
       "      <th>participant_id</th>\n",
       "      <th>biased</th>\n",
       "      <th>note</th>\n",
       "    </tr>\n",
       "  </thead>\n",
       "  <tbody>\n",
       "    <tr>\n",
       "      <th>0</th>\n",
       "      <td>1</td>\n",
       "      <td>nonbiased</td>\n",
       "      <td>Got me</td>\n",
       "    </tr>\n",
       "    <tr>\n",
       "      <th>1</th>\n",
       "      <td>2</td>\n",
       "      <td>nonbiased</td>\n",
       "      <td>I think I wasnt biased, but wouldnt know really</td>\n",
       "    </tr>\n",
       "    <tr>\n",
       "      <th>2</th>\n",
       "      <td>3</td>\n",
       "      <td>nonbiased</td>\n",
       "      <td>NaN</td>\n",
       "    </tr>\n",
       "    <tr>\n",
       "      <th>3</th>\n",
       "      <td>5</td>\n",
       "      <td>nonbiased</td>\n",
       "      <td>NaN</td>\n",
       "    </tr>\n",
       "    <tr>\n",
       "      <th>4</th>\n",
       "      <td>6</td>\n",
       "      <td>nonbiased</td>\n",
       "      <td>NaN</td>\n",
       "    </tr>\n",
       "  </tbody>\n",
       "</table>\n",
       "</div>"
      ],
      "text/plain": [
       "   participant_id     biased                                              note\n",
       "0               1  nonbiased                                            Got me\n",
       "1               2  nonbiased  I think I wasnt biased, but wouldnt know really \n",
       "2               3  nonbiased                                               NaN\n",
       "3               5  nonbiased                                               NaN\n",
       "4               6  nonbiased                                               NaN"
      ]
     },
     "metadata": {},
     "output_type": "display_data"
    },
    {
     "name": "stdout",
     "output_type": "stream",
     "text": [
      "-------- images dataset --------\n"
     ]
    },
    {
     "data": {
      "text/html": [
       "<div>\n",
       "<style scoped>\n",
       "    .dataframe tbody tr th:only-of-type {\n",
       "        vertical-align: middle;\n",
       "    }\n",
       "\n",
       "    .dataframe tbody tr th {\n",
       "        vertical-align: top;\n",
       "    }\n",
       "\n",
       "    .dataframe thead th {\n",
       "        text-align: right;\n",
       "    }\n",
       "</style>\n",
       "<table border=\"1\" class=\"dataframe\">\n",
       "  <thead>\n",
       "    <tr style=\"text-align: right;\">\n",
       "      <th></th>\n",
       "      <th>image_id</th>\n",
       "      <th>filename</th>\n",
       "      <th>path</th>\n",
       "      <th>grouped</th>\n",
       "    </tr>\n",
       "  </thead>\n",
       "  <tbody>\n",
       "    <tr>\n",
       "      <th>0</th>\n",
       "      <td>1</td>\n",
       "      <td>grouped_1</td>\n",
       "      <td>images/grouped/grouped_1.png</td>\n",
       "      <td>1</td>\n",
       "    </tr>\n",
       "    <tr>\n",
       "      <th>1</th>\n",
       "      <td>2</td>\n",
       "      <td>grouped_2</td>\n",
       "      <td>images/grouped/grouped_2.png</td>\n",
       "      <td>1</td>\n",
       "    </tr>\n",
       "    <tr>\n",
       "      <th>2</th>\n",
       "      <td>3</td>\n",
       "      <td>grouped_3</td>\n",
       "      <td>images/grouped/grouped_3.png</td>\n",
       "      <td>1</td>\n",
       "    </tr>\n",
       "    <tr>\n",
       "      <th>3</th>\n",
       "      <td>4</td>\n",
       "      <td>grouped_4</td>\n",
       "      <td>images/grouped/grouped_4.png</td>\n",
       "      <td>1</td>\n",
       "    </tr>\n",
       "    <tr>\n",
       "      <th>4</th>\n",
       "      <td>5</td>\n",
       "      <td>single1</td>\n",
       "      <td>images/single/single1.png</td>\n",
       "      <td>0</td>\n",
       "    </tr>\n",
       "  </tbody>\n",
       "</table>\n",
       "</div>"
      ],
      "text/plain": [
       "   image_id   filename                          path  grouped\n",
       "0         1  grouped_1  images/grouped/grouped_1.png        1\n",
       "1         2  grouped_2  images/grouped/grouped_2.png        1\n",
       "2         3  grouped_3  images/grouped/grouped_3.png        1\n",
       "3         4  grouped_4  images/grouped/grouped_4.png        1\n",
       "4         5    single1     images/single/single1.png        0"
      ]
     },
     "metadata": {},
     "output_type": "display_data"
    },
    {
     "name": "stdout",
     "output_type": "stream",
     "text": [
      "-------- participants dataset --------\n"
     ]
    },
    {
     "data": {
      "text/html": [
       "<div>\n",
       "<style scoped>\n",
       "    .dataframe tbody tr th:only-of-type {\n",
       "        vertical-align: middle;\n",
       "    }\n",
       "\n",
       "    .dataframe tbody tr th {\n",
       "        vertical-align: top;\n",
       "    }\n",
       "\n",
       "    .dataframe thead th {\n",
       "        text-align: right;\n",
       "    }\n",
       "</style>\n",
       "<table border=\"1\" class=\"dataframe\">\n",
       "  <thead>\n",
       "    <tr style=\"text-align: right;\">\n",
       "      <th></th>\n",
       "      <th>participant_id</th>\n",
       "      <th>gender</th>\n",
       "      <th>age</th>\n",
       "      <th>expertise</th>\n",
       "      <th>colorblind</th>\n",
       "      <th>bad_vision</th>\n",
       "    </tr>\n",
       "  </thead>\n",
       "  <tbody>\n",
       "    <tr>\n",
       "      <th>0</th>\n",
       "      <td>1</td>\n",
       "      <td>male</td>\n",
       "      <td>20</td>\n",
       "      <td>0</td>\n",
       "      <td>0</td>\n",
       "      <td>0</td>\n",
       "    </tr>\n",
       "    <tr>\n",
       "      <th>1</th>\n",
       "      <td>2</td>\n",
       "      <td>male</td>\n",
       "      <td>20</td>\n",
       "      <td>1</td>\n",
       "      <td>0</td>\n",
       "      <td>0</td>\n",
       "    </tr>\n",
       "    <tr>\n",
       "      <th>2</th>\n",
       "      <td>3</td>\n",
       "      <td>male</td>\n",
       "      <td>30</td>\n",
       "      <td>0</td>\n",
       "      <td>1</td>\n",
       "      <td>0</td>\n",
       "    </tr>\n",
       "    <tr>\n",
       "      <th>3</th>\n",
       "      <td>4</td>\n",
       "      <td>male</td>\n",
       "      <td>20</td>\n",
       "      <td>0</td>\n",
       "      <td>0</td>\n",
       "      <td>0</td>\n",
       "    </tr>\n",
       "    <tr>\n",
       "      <th>4</th>\n",
       "      <td>5</td>\n",
       "      <td>male</td>\n",
       "      <td>20</td>\n",
       "      <td>1</td>\n",
       "      <td>0</td>\n",
       "      <td>0</td>\n",
       "    </tr>\n",
       "  </tbody>\n",
       "</table>\n",
       "</div>"
      ],
      "text/plain": [
       "   participant_id gender  age  expertise  colorblind  bad_vision\n",
       "0               1   male   20          0           0           0\n",
       "1               2   male   20          1           0           0\n",
       "2               3   male   30          0           1           0\n",
       "3               4   male   20          0           0           0\n",
       "4               5   male   20          1           0           0"
      ]
     },
     "metadata": {},
     "output_type": "display_data"
    },
    {
     "name": "stdout",
     "output_type": "stream",
     "text": [
      "-------- ratings_grouped dataset --------\n"
     ]
    },
    {
     "data": {
      "text/html": [
       "<div>\n",
       "<style scoped>\n",
       "    .dataframe tbody tr th:only-of-type {\n",
       "        vertical-align: middle;\n",
       "    }\n",
       "\n",
       "    .dataframe tbody tr th {\n",
       "        vertical-align: top;\n",
       "    }\n",
       "\n",
       "    .dataframe thead th {\n",
       "        text-align: right;\n",
       "    }\n",
       "</style>\n",
       "<table border=\"1\" class=\"dataframe\">\n",
       "  <thead>\n",
       "    <tr style=\"text-align: right;\">\n",
       "      <th></th>\n",
       "      <th>participant_id</th>\n",
       "      <th>image_id</th>\n",
       "      <th>correspondence</th>\n",
       "      <th>realism</th>\n",
       "      <th>creative</th>\n",
       "      <th>made_by</th>\n",
       "      <th>note</th>\n",
       "    </tr>\n",
       "  </thead>\n",
       "  <tbody>\n",
       "    <tr>\n",
       "      <th>0</th>\n",
       "      <td>1</td>\n",
       "      <td>1</td>\n",
       "      <td>5</td>\n",
       "      <td>4</td>\n",
       "      <td>3</td>\n",
       "      <td>known</td>\n",
       "      <td>Just turns red but cool it is the car only</td>\n",
       "    </tr>\n",
       "    <tr>\n",
       "      <th>1</th>\n",
       "      <td>1</td>\n",
       "      <td>2</td>\n",
       "      <td>5</td>\n",
       "      <td>4</td>\n",
       "      <td>4</td>\n",
       "      <td>computer</td>\n",
       "      <td>Nose changes i think</td>\n",
       "    </tr>\n",
       "    <tr>\n",
       "      <th>2</th>\n",
       "      <td>1</td>\n",
       "      <td>3</td>\n",
       "      <td>5</td>\n",
       "      <td>4</td>\n",
       "      <td>4</td>\n",
       "      <td>known</td>\n",
       "      <td>Nice change of wheels</td>\n",
       "    </tr>\n",
       "    <tr>\n",
       "      <th>3</th>\n",
       "      <td>1</td>\n",
       "      <td>4</td>\n",
       "      <td>2</td>\n",
       "      <td>3</td>\n",
       "      <td>2</td>\n",
       "      <td>human</td>\n",
       "      <td>Looks like completely different cars to me wou...</td>\n",
       "    </tr>\n",
       "    <tr>\n",
       "      <th>4</th>\n",
       "      <td>2</td>\n",
       "      <td>1</td>\n",
       "      <td>5</td>\n",
       "      <td>5</td>\n",
       "      <td>1</td>\n",
       "      <td>human</td>\n",
       "      <td>Its just a car that turns red...</td>\n",
       "    </tr>\n",
       "  </tbody>\n",
       "</table>\n",
       "</div>"
      ],
      "text/plain": [
       "   participant_id  image_id  correspondence  realism  creative   made_by  \\\n",
       "0               1         1               5        4         3     known   \n",
       "1               1         2               5        4         4  computer   \n",
       "2               1         3               5        4         4     known   \n",
       "3               1         4               2        3         2     human   \n",
       "4               2         1               5        5         1     human   \n",
       "\n",
       "                                                note  \n",
       "0         Just turns red but cool it is the car only  \n",
       "1                               Nose changes i think  \n",
       "2                              Nice change of wheels  \n",
       "3  Looks like completely different cars to me wou...  \n",
       "4                   Its just a car that turns red...  "
      ]
     },
     "metadata": {},
     "output_type": "display_data"
    },
    {
     "name": "stdout",
     "output_type": "stream",
     "text": [
      "-------- ratings_single dataset --------\n"
     ]
    },
    {
     "data": {
      "text/html": [
       "<div>\n",
       "<style scoped>\n",
       "    .dataframe tbody tr th:only-of-type {\n",
       "        vertical-align: middle;\n",
       "    }\n",
       "\n",
       "    .dataframe tbody tr th {\n",
       "        vertical-align: top;\n",
       "    }\n",
       "\n",
       "    .dataframe thead th {\n",
       "        text-align: right;\n",
       "    }\n",
       "</style>\n",
       "<table border=\"1\" class=\"dataframe\">\n",
       "  <thead>\n",
       "    <tr style=\"text-align: right;\">\n",
       "      <th></th>\n",
       "      <th>participant_id</th>\n",
       "      <th>image_id</th>\n",
       "      <th>carlike</th>\n",
       "      <th>detail</th>\n",
       "      <th>realism</th>\n",
       "      <th>resemblence</th>\n",
       "      <th>creative</th>\n",
       "      <th>general_impression</th>\n",
       "      <th>made_by</th>\n",
       "      <th>note</th>\n",
       "    </tr>\n",
       "  </thead>\n",
       "  <tbody>\n",
       "    <tr>\n",
       "      <th>0</th>\n",
       "      <td>1</td>\n",
       "      <td>5</td>\n",
       "      <td>1</td>\n",
       "      <td>1</td>\n",
       "      <td>1</td>\n",
       "      <td>1</td>\n",
       "      <td>3</td>\n",
       "      <td>1</td>\n",
       "      <td>computer</td>\n",
       "      <td>Unique but not a car</td>\n",
       "    </tr>\n",
       "    <tr>\n",
       "      <th>1</th>\n",
       "      <td>1</td>\n",
       "      <td>6</td>\n",
       "      <td>5</td>\n",
       "      <td>4</td>\n",
       "      <td>3</td>\n",
       "      <td>3</td>\n",
       "      <td>4</td>\n",
       "      <td>2</td>\n",
       "      <td>known</td>\n",
       "      <td>Hmmm not sure if that is two fronts haha</td>\n",
       "    </tr>\n",
       "    <tr>\n",
       "      <th>2</th>\n",
       "      <td>1</td>\n",
       "      <td>7</td>\n",
       "      <td>5</td>\n",
       "      <td>5</td>\n",
       "      <td>5</td>\n",
       "      <td>5</td>\n",
       "      <td>4</td>\n",
       "      <td>4</td>\n",
       "      <td>human</td>\n",
       "      <td>NaN</td>\n",
       "    </tr>\n",
       "    <tr>\n",
       "      <th>3</th>\n",
       "      <td>1</td>\n",
       "      <td>8</td>\n",
       "      <td>5</td>\n",
       "      <td>4</td>\n",
       "      <td>4</td>\n",
       "      <td>5</td>\n",
       "      <td>3</td>\n",
       "      <td>4</td>\n",
       "      <td>computer</td>\n",
       "      <td>NaN</td>\n",
       "    </tr>\n",
       "    <tr>\n",
       "      <th>4</th>\n",
       "      <td>1</td>\n",
       "      <td>9</td>\n",
       "      <td>5</td>\n",
       "      <td>5</td>\n",
       "      <td>4</td>\n",
       "      <td>4</td>\n",
       "      <td>3</td>\n",
       "      <td>3</td>\n",
       "      <td>known</td>\n",
       "      <td>cool text, meh car</td>\n",
       "    </tr>\n",
       "  </tbody>\n",
       "</table>\n",
       "</div>"
      ],
      "text/plain": [
       "   participant_id  image_id  carlike  detail  realism  resemblence  creative  \\\n",
       "0               1         5        1       1        1            1         3   \n",
       "1               1         6        5       4        3            3         4   \n",
       "2               1         7        5       5        5            5         4   \n",
       "3               1         8        5       4        4            5         3   \n",
       "4               1         9        5       5        4            4         3   \n",
       "\n",
       "   general_impression   made_by                                      note  \n",
       "0                   1  computer                      Unique but not a car  \n",
       "1                   2     known  Hmmm not sure if that is two fronts haha  \n",
       "2                   4     human                                       NaN  \n",
       "3                   4  computer                                       NaN  \n",
       "4                   3     known                        cool text, meh car  "
      ]
     },
     "metadata": {},
     "output_type": "display_data"
    }
   ],
   "source": [
    "print(\"-------- bias dataset --------\")\n",
    "display(bias.head())\n",
    "print(\"-------- images dataset --------\")\n",
    "display(images.head())\n",
    "print(\"-------- participants dataset --------\")\n",
    "display(participants.head())\n",
    "print(\"-------- ratings_grouped dataset --------\")\n",
    "display(ratings_grouped.head())\n",
    "print(\"-------- ratings_single dataset --------\")\n",
    "display(ratings_single.head())"
   ]
  },
  {
   "cell_type": "markdown",
   "metadata": {},
   "source": [
    "<hr>\n",
    "\n",
    "## Removing non complete entrees\n",
    "\n",
    "The following code blocks remove entrees of participants that didn't complete the survey completely."
   ]
  },
  {
   "cell_type": "code",
   "execution_count": 4,
   "metadata": {},
   "outputs": [
    {
     "name": "stdout",
     "output_type": "stream",
     "text": [
      "There are 32 participants that started the survey.\n",
      "There are a total of 183 singles_ratings_started entrees for the original dataset.\n",
      "There are a total of 93 grouped_ratings_started entrees for the original dataset.\n",
      "There are a total of 23 biased_ratings_started entrees for the original dataset.\n"
     ]
    }
   ],
   "source": [
    "# Determine amount of participants that registered\n",
    "# and show some other statistics\n",
    "participants_started = participants.shape[0]\n",
    "singles_ratings_started = ratings_single.shape[0]\n",
    "grouped_ratings_started = ratings_grouped.shape[0]\n",
    "biased_ratings_started = bias.shape[0]\n",
    "\n",
    "print(f\"There are {participants_started} participants that started the survey.\")\n",
    "print(f\"There are a total of {singles_ratings_started} singles_ratings_started entrees for the original dataset.\")\n",
    "print(f\"There are a total of {grouped_ratings_started} grouped_ratings_started entrees for the original dataset.\")\n",
    "print(f\"There are a total of {biased_ratings_started} biased_ratings_started entrees for the original dataset.\")"
   ]
  },
  {
   "cell_type": "code",
   "execution_count": 5,
   "metadata": {},
   "outputs": [],
   "source": [
    "# Get a list of participant_ids that rated all grouped images\n",
    "participants_rated_all_grouped = ratings_grouped.groupby('participant_id')['participant_id'].filter(lambda x: len(x) == 4)\n",
    "\n",
    "# Get a list of participant_ids that rated all single images\n",
    "participants_rated_all_single = ratings_single.groupby('participant_id')['participant_id'].filter(lambda x: len(x) == 8)\n",
    "\n",
    "# Get a list of participant_ids that submitted bias\n",
    "participants_gave_bias = bias.participant_id\n",
    "\n",
    "# Remove participants that didn't fill in all ratings and bias\n",
    "participants = participants[participants['participant_id'].isin(participants_rated_all_grouped) &\n",
    "                            (participants['participant_id'].isin(participants_rated_all_single)) &\n",
    "                            (participants['participant_id'].isin(participants_gave_bias))]\n",
    "\n",
    "# Get simple list of all ok participants\n",
    "finished_participants = participants.participant_id\n",
    "\n",
    "# Only keep results that come from ok participants\n",
    "bias = bias[bias['participant_id'].isin(finished_participants)]\n",
    "ratings_grouped = ratings_grouped[ratings_grouped['participant_id'].isin(finished_participants)]\n",
    "ratings_single = ratings_single[ratings_single['participant_id'].isin(finished_participants)]"
   ]
  },
  {
   "cell_type": "code",
   "execution_count": 6,
   "metadata": {},
   "outputs": [
    {
     "name": "stdout",
     "output_type": "stream",
     "text": [
      "There are 21 participants that started the survey.\n",
      "There are a total of 168 singles_ratings_started entrees for the cleaned dataset.\n",
      "There are a total of 84 grouped_ratings_started entrees for the cleaned dataset.\n",
      "There are a total of 21 biased_ratings_started entrees for the cleaned dataset.\n"
     ]
    }
   ],
   "source": [
    "# Determine amount of participants that completed the survey\n",
    "# and show some other statistics\n",
    "participants_started = participants.shape[0]\n",
    "singles_ratings_started = ratings_single.shape[0]\n",
    "grouped_ratings_started = ratings_grouped.shape[0]\n",
    "biased_ratings_started = bias.shape[0]\n",
    "\n",
    "print(f\"There are {participants_started} participants that started the survey.\")\n",
    "print(f\"There are a total of {singles_ratings_started} singles_ratings_started entrees for the cleaned dataset.\")\n",
    "print(f\"There are a total of {grouped_ratings_started} grouped_ratings_started entrees for the cleaned dataset.\")\n",
    "print(f\"There are a total of {biased_ratings_started} biased_ratings_started entrees for the cleaned dataset.\")"
   ]
  },
  {
   "cell_type": "markdown",
   "metadata": {},
   "source": [
    "<hr>\n",
    "\n",
    "## Human VS computer analysis\n",
    "\n",
    "The following code blocks will give the distribution of human, computer and known assignments for the made_by field of each image."
   ]
  },
  {
   "cell_type": "code",
   "execution_count": 31,
   "metadata": {
    "scrolled": false
   },
   "outputs": [
    {
     "data": {
      "image/png": "[encoded data removed]",
      "text/plain": [
       "<Figure size 432x288 with 1 Axes>"
      ]
     },
     "metadata": {
      "needs_background": "light"
     },
     "output_type": "display_data"
    },
    {
     "data": {
      "image/png": "[encoded data removed]",
      "text/plain": [
       "<Figure size 432x288 with 1 Axes>"
      ]
     },
     "metadata": {
      "needs_background": "light"
     },
     "output_type": "display_data"
    },
    {
     "data": {
      "image/png": "[encoded data removed]",
      "text/plain": [
       "<Figure size 432x288 with 1 Axes>"
      ]
     },
     "metadata": {
      "needs_background": "light"
     },
     "output_type": "display_data"
    },
    {
     "data": {
      "image/png": "[encoded data removed]",
      "text/plain": [
       "<Figure size 432x288 with 1 Axes>"
      ]
     },
     "metadata": {
      "needs_background": "light"
     },
     "output_type": "display_data"
    },
    {
     "data": {
      "image/png": "[encoded data removed]",
      "text/plain": [
       "<Figure size 432x288 with 1 Axes>"
      ]
     },
     "metadata": {
      "needs_background": "light"
     },
     "output_type": "display_data"
    },
    {
     "data": {
      "image/png": "[encoded data removed]",
      "text/plain": [
       "<Figure size 432x288 with 1 Axes>"
      ]
     },
     "metadata": {
      "needs_background": "light"
     },
     "output_type": "display_data"
    },
    {
     "data": {
      "image/png": "[encoded data removed]",
      "text/plain": [
       "<Figure size 432x288 with 1 Axes>"
      ]
     },
     "metadata": {
      "needs_background": "light"
     },
     "output_type": "display_data"
    },
    {
     "data": {
      "image/png": "[encoded data removed]",
      "text/plain": [
       "<Figure size 432x288 with 1 Axes>"
      ]
     },
     "metadata": {
      "needs_background": "light"
     },
     "output_type": "display_data"
    },
    {
     "data": {
      "image/png": "[encoded data removed]",
      "text/plain": [
       "<Figure size 432x288 with 1 Axes>"
      ]
     },
     "metadata": {
      "needs_background": "light"
     },
     "output_type": "display_data"
    },
    {
     "data": {
      "image/png": "[encoded data removed]",
      "text/plain": [
       "<Figure size 432x288 with 1 Axes>"
      ]
     },
     "metadata": {
      "needs_background": "light"
     },
     "output_type": "display_data"
    },
    {
     "data": {
      "image/png": "[encoded data removed]",
      "text/plain": [
       "<Figure size 432x288 with 1 Axes>"
      ]
     },
     "metadata": {
      "needs_background": "light"
     },
     "output_type": "display_data"
    },
    {
     "data": {
      "image/png": "[encoded data removed]",
      "text/plain": [
       "<Figure size 432x288 with 1 Axes>"
      ]
     },
     "metadata": {
      "needs_background": "light"
     },
     "output_type": "display_data"
    }
   ],
   "source": [
    "# Get all images\n",
    "image_ids = images.image_id\n",
    "\n",
    "for image_id in image_ids:\n",
    "    # Get image name\n",
    "    image_name = images[images.image_id == image_id].filename.item()\n",
    "    \n",
    "    # Determine grouped or single image\n",
    "    is_grouped = images[images.image_id == image_id].grouped.item()\n",
    "    \n",
    "    # Calculate values\n",
    "    if (is_grouped):\n",
    "        values = [ratings_grouped[(ratings_grouped.image_id == image_id) & (ratings_grouped.made_by == \"human\")].shape[0],\n",
    "                  ratings_grouped[(ratings_grouped.image_id == image_id) & (ratings_grouped.made_by == \"computer\")].shape[0],\n",
    "                  ratings_grouped[(ratings_grouped.image_id == image_id) & (ratings_grouped.made_by == \"known\")].shape[0]]\n",
    "    else:\n",
    "        values = [ratings_single[(ratings_single.image_id == image_id) & (ratings_single.made_by == \"human\")].shape[0],\n",
    "                  ratings_single[(ratings_single.image_id == image_id) & (ratings_single.made_by == \"computer\")].shape[0],\n",
    "                  ratings_single[(ratings_single.image_id == image_id) & (ratings_single.made_by == \"known\")].shape[0]]\n",
    "    \n",
    "    x_ticks = [\"Human\", \"Computer\", \"Known\"]\n",
    "    \n",
    "    # Replace NaN with 0 - occurs when certain rating doesn't occur\n",
    "    values = pd.Series(values).fillna(0).tolist()\n",
    "    \n",
    "    x = np.arange(len(values))\n",
    "    y = values\n",
    "    \n",
    "    # Show plot\n",
    "    plt.title(image_name)\n",
    "    plt.ylabel('Amount of participants')\n",
    "    plt.xticks(x, x_ticks)\n",
    "    \n",
    "    plt.bar(x, y, align='center', capsize=5)\n",
    "    \n",
    "    plt.savefig(\"Graphs/Made_by/\" + image_name, dpi=300, bbox_inches='tight') \n",
    "    plt.show()"
   ]
  },
  {
   "cell_type": "code",
   "execution_count": null,
   "metadata": {},
   "outputs": [],
   "source": []
  },
  {
   "cell_type": "code",
   "execution_count": null,
   "metadata": {},
   "outputs": [],
   "source": []
  },
  {
   "cell_type": "code",
   "execution_count": null,
   "metadata": {},
   "outputs": [],
   "source": []
  },
  {
   "cell_type": "code",
   "execution_count": null,
   "metadata": {},
   "outputs": [],
   "source": []
  },
  {
   "cell_type": "code",
   "execution_count": null,
   "metadata": {},
   "outputs": [],
   "source": []
  },
  {
   "cell_type": "code",
   "execution_count": null,
   "metadata": {},
   "outputs": [],
   "source": []
  },
  {
   "cell_type": "code",
   "execution_count": null,
   "metadata": {},
   "outputs": [],
   "source": []
  },
  {
   "cell_type": "code",
   "execution_count": null,
   "metadata": {},
   "outputs": [],
   "source": []
  },
  {
   "cell_type": "code",
   "execution_count": null,
   "metadata": {},
   "outputs": [],
   "source": []
  },
  {
   "cell_type": "code",
   "execution_count": null,
   "metadata": {},
   "outputs": [],
   "source": []
  },
  {
   "cell_type": "code",
   "execution_count": null,
   "metadata": {},
   "outputs": [],
   "source": []
  },
  {
   "cell_type": "code",
   "execution_count": null,
   "metadata": {},
   "outputs": [],
   "source": []
  },
  {
   "cell_type": "code",
   "execution_count": null,
   "metadata": {},
   "outputs": [],
   "source": []
  },
  {
   "cell_type": "code",
   "execution_count": null,
   "metadata": {},
   "outputs": [],
   "source": []
  },
  {
   "cell_type": "markdown",
   "metadata": {},
   "source": [
    "<hr>\n",
    "\n",
    "## Bias analysis\n",
    "\n",
    "The following code blocks will give some analytics for the biases."
   ]
  },
  {
   "cell_type": "markdown",
   "metadata": {},
   "source": [
    "### Bias distribution"
   ]
  },
  {
   "cell_type": "code",
   "execution_count": 7,
   "metadata": {
    "scrolled": true
   },
   "outputs": [
    {
     "data": {
      "image/png": "[encoded data removed]",
      "text/plain": [
       "<Figure size 432x288 with 1 Axes>"
      ]
     },
     "metadata": {
      "needs_background": "light"
     },
     "output_type": "display_data"
    }
   ],
   "source": [
    "# Calculate values\n",
    "values = [bias[(bias.biased == \"biased\")].shape[0], bias[(bias.biased == \"nonbiased\")].shape[0]]\n",
    "x_ticks = [\"Biased\", \"Not biased\"]\n",
    "\n",
    "x = np.arange(len(values))\n",
    "y = values\n",
    "\n",
    "# Show plot\n",
    "plt.title(\"Participants opinion on bias\")\n",
    "plt.ylabel('Amount of participants')\n",
    "plt.xticks(x, x_ticks)\n",
    "\n",
    "plt.bar(x, y, align='center', capsize=5)\n",
    "\n",
    "plt.savefig(\"Graphs/Bias/bias_distribution\", dpi=300, bbox_inches='tight') \n",
    "plt.show()"
   ]
  },
  {
   "cell_type": "markdown",
   "metadata": {},
   "source": [
    "<hr>\n",
    "\n",
    "## Grouped ratings analysis\n",
    "\n",
    "The following code blocks will give some analytics for the grouped ratings."
   ]
  },
  {
   "cell_type": "markdown",
   "metadata": {},
   "source": [
    "### Correspondence rating of rim design modification"
   ]
  },
  {
   "cell_type": "code",
   "execution_count": 8,
   "metadata": {
    "scrolled": true
   },
   "outputs": [
    {
     "data": {
      "image/png": "[encoded data removed]",
      "text/plain": [
       "<Figure size 432x288 with 1 Axes>"
      ]
     },
     "metadata": {
      "needs_background": "light"
     },
     "output_type": "display_data"
    }
   ],
   "source": [
    "# Get image id\n",
    "image_id = images[images.filename == \"grouped_3\"].image_id.item()\n",
    "\n",
    "# Calculate values\n",
    "means = [ratings_grouped[(ratings_grouped.image_id == image_id) & (ratings_grouped.made_by == \"human\")].correspondence.mean(),\n",
    "         ratings_grouped[(ratings_grouped.image_id == image_id) & (ratings_grouped.made_by == \"computer\")].correspondence.mean(),\n",
    "         ratings_grouped[(ratings_grouped.image_id == image_id) & (ratings_grouped.made_by == \"known\")].correspondence.mean()]\n",
    "\n",
    "errors = [ratings_grouped[(ratings_grouped.image_id == image_id) & (ratings_grouped.made_by == \"human\")].correspondence.std(),\n",
    "          ratings_grouped[(ratings_grouped.image_id == image_id) & (ratings_grouped.made_by == \"computer\")].correspondence.std(),\n",
    "          ratings_grouped[(ratings_grouped.image_id == image_id) & (ratings_grouped.made_by == \"known\")].correspondence.std()]\n",
    "\n",
    "x_ticks = [\"Human\", \"Computer\", \"Known\"]\n",
    "\n",
    "# Replace NaN with 0 - occurs when certain rating doesn't occur\n",
    "means = pd.Series(means).fillna(0).tolist()\n",
    "errors = pd.Series(errors).fillna(0).tolist()\n",
    "\n",
    "x = np.arange(len(means))\n",
    "y = means\n",
    "\n",
    "# plot a histogram with standard deviation\n",
    "plt.title(\"Correspondence rating of nose modification\")\n",
    "plt.ylabel('Average score with standard deviation')\n",
    "plt.xticks(x, x_ticks)\n",
    "\n",
    "plt.bar(x, y, yerr=errors, align='center', ecolor='darkorange', capsize=5)\n",
    "\n",
    "plt.savefig(\"Graphs/Grouped/rim_design_correspondence\", dpi=300, bbox_inches='tight') \n",
    "plt.show()"
   ]
  },
  {
   "cell_type": "markdown",
   "metadata": {},
   "source": [
    "<hr>\n",
    "\n",
    "## Single ratings analysis\n",
    "\n",
    "The following code blocks will give some analytics for the single ratings."
   ]
  },
  {
   "cell_type": "markdown",
   "metadata": {},
   "source": [
    "### Creativity of album art cover"
   ]
  },
  {
   "cell_type": "code",
   "execution_count": 9,
   "metadata": {},
   "outputs": [
    {
     "data": {
      "image/png": "[encoded data removed]",
      "text/plain": [
       "<Figure size 432x288 with 1 Axes>"
      ]
     },
     "metadata": {
      "needs_background": "light"
     },
     "output_type": "display_data"
    }
   ],
   "source": [
    "# Get image id\n",
    "image_id = images[images.filename == \"single1\"].image_id.item()\n",
    "\n",
    "# Calculate values\n",
    "means = [ratings_single[(ratings_single.image_id == image_id) & (ratings_single.made_by == \"human\")].creative.mean(),\n",
    "         ratings_single[(ratings_single.image_id == image_id) & (ratings_single.made_by == \"computer\")].creative.mean(),\n",
    "         ratings_single[(ratings_single.image_id == image_id) & (ratings_single.made_by == \"known\")].creative.mean()]\n",
    "\n",
    "errors = [ratings_single[(ratings_single.image_id == image_id) & (ratings_single.made_by == \"human\")].creative.std(),\n",
    "          ratings_single[(ratings_single.image_id == image_id) & (ratings_single.made_by == \"computer\")].creative.std(),\n",
    "          ratings_single[(ratings_single.image_id == image_id) & (ratings_single.made_by == \"known\")].creative.std()]\n",
    "\n",
    "x_ticks = [\"Human\", \"Computer\", \"Known\"]\n",
    "\n",
    "# Replace NaN with 0 - occurs when certain rating doesn't occur\n",
    "means = pd.Series(means).fillna(0).tolist()\n",
    "errors = pd.Series(errors).fillna(0).tolist()\n",
    "\n",
    "x = np.arange(len(means))\n",
    "y = means\n",
    "\n",
    "# plot a histogram with standard deviation\n",
    "plt.title(\"Creativity rating of creative artefact\")\n",
    "plt.ylabel('Average score with standard deviation')\n",
    "plt.xticks(x, x_ticks)\n",
    "\n",
    "plt.bar(x, y, yerr=errors, align='center', ecolor='darkorange', capsize=5)\n",
    "\n",
    "plt.savefig(\"Graphs/Single/album_art_cover_creative\", dpi=300, bbox_inches='tight') \n",
    "plt.show()"
   ]
  },
  {
   "cell_type": "raw",
   "metadata": {},
   "source": []
  }
 ],
 "metadata": {
  "kernelspec": {
   "display_name": "Python 3",
   "language": "python",
   "name": "python3"
  },
  "language_info": {
   "codemirror_mode": {
    "name": "ipython",
    "version": 3
   },
   "file_extension": ".py",
   "mimetype": "text/x-python",
   "name": "python",
   "nbconvert_exporter": "python",
   "pygments_lexer": "ipython3",
   "version": "3.8.3"
  }
 },
 "nbformat": 4,
 "nbformat_minor": 4
}
